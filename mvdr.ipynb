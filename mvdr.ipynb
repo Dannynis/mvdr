{
 "cells": [
  {
   "cell_type": "code",
   "execution_count": 1,
   "metadata": {},
   "outputs": [],
   "source": [
    "import librosa \n",
    "import numpy as np"
   ]
  },
  {
   "cell_type": "code",
   "execution_count": 2,
   "metadata": {},
   "outputs": [],
   "source": [
    "# create 5 sin waves dd"
   ]
  },
  {
   "cell_type": "code",
   "execution_count": 56,
   "metadata": {},
   "outputs": [],
   "source": [
    "# generate 5 sin wave with same frequency and different phases\n",
    "signals = []\n",
    "fs = 16000\n",
    "time = np.linspace(0, 1, fs)\n",
    "for i in range(5):\n",
    "    signals.append(np.sin(2 * np.pi * 440 * time + i * np.pi / 2))\n",
    "\n",
    "\n",
    "signal = np.vstack(signals)\n",
    "noise = np.random.normal(size = (5,signal.shape[-1]) )\n",
    "\n",
    "m=5\n",
    "ref =2"
   ]
  },
  {
   "cell_type": "code",
   "execution_count": 57,
   "metadata": {},
   "outputs": [
    {
     "data": {
      "text/plain": [
       "(5, 16000)"
      ]
     },
     "execution_count": 57,
     "metadata": {},
     "output_type": "execute_result"
    }
   ],
   "source": [
    "noise.shape"
   ]
  },
  {
   "cell_type": "code",
   "execution_count": 58,
   "metadata": {},
   "outputs": [],
   "source": [
    "signal_stft = librosa.stft(signal, n_fft=1024, hop_length=512)\n",
    "noise_stft = librosa.stft(noise, n_fft=1024, hop_length=512)\n"
   ]
  },
  {
   "cell_type": "code",
   "execution_count": 111,
   "metadata": {},
   "outputs": [],
   "source": [
    "import scipy\n",
    "\n",
    "rtf_vecs = []\n",
    "\n",
    "for f in range(signal_stft.shape[1]):\n",
    "    cov_sig = signal_stft[:,f] @ np.conj(signal_stft[:,f]).T\n",
    "    cov_noise = noise_stft[:,f] @ np.conj(noise_stft[:,f]).T\n",
    "    eigenvalues, eigenvectors = scipy.linalg.eigh(cov_sig, cov_noise)\n",
    "    dominant_eigenvector = eigenvectors[:,np.argmax(eigenvalues)]\n",
    "    dominant_eigenvector / np.abs(dominant_eigenvector[ref])\n",
    "    rtf_vecs.append(dominant_eigenvector)\n",
    "\n",
    "rtf_vecs = np.vstack(rtf_vecs)"
   ]
  },
  {
   "cell_type": "code",
   "execution_count": 110,
   "metadata": {},
   "outputs": [
    {
     "data": {
      "text/plain": [
       "(513, 5)"
      ]
     },
     "execution_count": 110,
     "metadata": {},
     "output_type": "execute_result"
    }
   ],
   "source": []
  },
  {
   "cell_type": "code",
   "execution_count": 104,
   "metadata": {},
   "outputs": [],
   "source": [
    "# 1 / eigenvalues.max()\n",
    "# (cov_noise @ dominant_eigenvector) / (cov_sig @ dominant_eigenvector)"
   ]
  },
  {
   "cell_type": "code",
   "execution_count": 102,
   "metadata": {},
   "outputs": [
    {
     "data": {
      "text/plain": [
       "array([9730.43898536-0.j, 9730.43898536+0.j, 9730.43898536+0.j,\n",
       "       9730.43898536-0.j, 9730.43898536-0.j])"
      ]
     },
     "execution_count": 102,
     "metadata": {},
     "output_type": "execute_result"
    }
   ],
   "source": []
  },
  {
   "cell_type": "code",
   "execution_count": 89,
   "metadata": {},
   "outputs": [],
   "source": [
    "# eigenvalues, eigenvectors = np.linalg.eig(np.linalg.inv(cov_noise) @ cov_sig)\n",
    "# # take the most dominant eigenvector\n",
    "# dominant_eigenvector = eigenvectors[:, np.argmax(eigenvalues)]\n",
    "# dominant_eigenvector\n",
    "# # dominant_eigenvector / np.abs(dominant_eigenvector[ref])"
   ]
  },
  {
   "cell_type": "code",
   "execution_count": 90,
   "metadata": {},
   "outputs": [],
   "source": [
    "# dominant_eigenvector"
   ]
  },
  {
   "cell_type": "code",
   "execution_count": null,
   "metadata": {},
   "outputs": [],
   "source": []
  }
 ],
 "metadata": {
  "kernelspec": {
   "display_name": "base",
   "language": "python",
   "name": "python3"
  },
  "language_info": {
   "codemirror_mode": {
    "name": "ipython",
    "version": 3
   },
   "file_extension": ".py",
   "mimetype": "text/x-python",
   "name": "python",
   "nbconvert_exporter": "python",
   "pygments_lexer": "ipython3",
   "version": "3.10.9"
  }
 },
 "nbformat": 4,
 "nbformat_minor": 2
}
